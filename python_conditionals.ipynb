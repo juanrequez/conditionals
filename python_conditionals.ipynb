{
 "cells": [
  {
   "attachments": {},
   "cell_type": "markdown",
   "id": "dc5cde5b",
   "metadata": {},
   "source": [
    "# Condicionales en Python\n",
    "### creado por Juan Pablo Requez - juanrequez@gmail.com"
   ]
  },
  {
   "cell_type": "markdown",
   "id": "18a53a44",
   "metadata": {},
   "source": [
    "A continuación se presenta una función que devuelve un texto clasificatorio para la temperatura ambiente. La idea de la función es que, si la temperatura está en el rango entre [0 y 15] se considere a la temperatura ambiente fría. Si la temperatura está entre (15 y 25] se considere a la temperatura agradable, si está por encima de 25 se concluya que hace calor"
   ]
  },
  {
   "cell_type": "code",
   "execution_count": 1,
   "id": "fb48692d",
   "metadata": {},
   "outputs": [],
   "source": [
    "def clasificador(temp):\n",
    "    if temp>=0 and temp<=15:\n",
    "        salida='Hace frío'\n",
    "    elif temp>15 and temp<=25:\n",
    "        salida='agradable'\n",
    "    else:\n",
    "        salida=\"hace calor\"\n",
    "    \n",
    "    return salida\n",
    "    \n"
   ]
  },
  {
   "cell_type": "code",
   "execution_count": 2,
   "id": "8fed38d1",
   "metadata": {},
   "outputs": [
    {
     "data": {
      "text/plain": [
       "['Hace frío', 'Hace frío', 'agradable', 'agradable', 'hace calor']"
      ]
     },
     "execution_count": 2,
     "metadata": {},
     "output_type": "execute_result"
    }
   ],
   "source": [
    "[clasificador(0),clasificador(12),clasificador(16),clasificador(24), clasificador(30)]"
   ]
  },
  {
   "cell_type": "markdown",
   "id": "f5122b5c",
   "metadata": {},
   "source": [
    "Ahora se presenta una expresión condicional. La variable *estado* debe contener el valor del estado de mayoría de edad de una persona con edad *edad*."
   ]
  },
  {
   "cell_type": "code",
   "execution_count": 3,
   "id": "df304d8b",
   "metadata": {},
   "outputs": [
    {
     "name": "stdout",
     "output_type": "stream",
     "text": [
      "mayor de edad\n"
     ]
    }
   ],
   "source": [
    "edad=19\n",
    "estado = \"mayor de edad\" if edad>=18 else \"menor de edad\"\n",
    "print(estado)"
   ]
  },
  {
   "cell_type": "markdown",
   "id": "5da9759a",
   "metadata": {},
   "source": [
    "### Comprehensions\n",
    "Ahora, se creará una variable que incluya a todos los valores de i desde 0 hasta 20 que satisfagan que no son multiplos de 3."
   ]
  },
  {
   "cell_type": "code",
   "execution_count": 4,
   "id": "d307861b",
   "metadata": {},
   "outputs": [
    {
     "name": "stdout",
     "output_type": "stream",
     "text": [
      "[1, 2, 4, 5, 7, 8, 10, 11, 13, 14, 16, 17, 19, 20]\n"
     ]
    }
   ],
   "source": [
    "x=[i for i in range(0,21) if i%3 != 0]\n",
    "print(x)"
   ]
  },
  {
   "cell_type": "code",
   "execution_count": null,
   "id": "010489ca",
   "metadata": {},
   "outputs": [],
   "source": []
  }
 ],
 "metadata": {
  "kernelspec": {
   "display_name": "Python 3",
   "language": "python",
   "name": "python3"
  },
  "language_info": {
   "codemirror_mode": {
    "name": "ipython",
    "version": 3
   },
   "file_extension": ".py",
   "mimetype": "text/x-python",
   "name": "python",
   "nbconvert_exporter": "python",
   "pygments_lexer": "ipython3",
   "version": "3.9.5"
  },
  "vscode": {
   "interpreter": {
    "hash": "9ada32eea83c06c6418fd9dacb5580edb909b082032d188eabcfd6a2b68a7cd7"
   }
  }
 },
 "nbformat": 4,
 "nbformat_minor": 5
}
